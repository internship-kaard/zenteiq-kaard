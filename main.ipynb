{
  "nbformat": 4,
  "nbformat_minor": 0,
  "metadata": {
    "colab": {
      "provenance": [],
      "include_colab_link": true
    },
    "kernelspec": {
      "name": "python3",
      "display_name": "Python 3"
    },
    "language_info": {
      "name": "python"
    }
  },
  "cells": [
    {
      "cell_type": "markdown",
      "metadata": {
        "id": "view-in-github",
        "colab_type": "text"
      },
      "source": [
        "<a href=\"https://colab.research.google.com/github/internship-kaard/zenteiq-kaard/blob/main/main.ipynb\" target=\"_parent\"><img src=\"https://colab.research.google.com/assets/colab-badge.svg\" alt=\"Open In Colab\"/></a>"
      ]
    },
    {
      "cell_type": "markdown",
      "source": [
        "Develop a machine learning model that can predict student dropout rates or academic success based on a variety of factors, such as attendance, grades, and demographic data. The model should be able to identify students who are at risk of dropping out or falling behind and provide targeted interventions and support."
      ],
      "metadata": {
        "id": "FL8vU3G2G-Vo"
      }
    },
    {
      "cell_type": "code",
      "execution_count": 61,
      "metadata": {
        "id": "i6m6aHUcquIh"
      },
      "outputs": [],
      "source": [
        "import pandas as pd\n",
        "import numpy as np\n",
        "import seaborn as sns\n",
        "from matplotlib import pyplot as plt\n",
        "import math\n",
        "from sklearn.pipeline import Pipeline\n",
        "from sklearn.preprocessing import StandardScaler\n",
        "from sklearn.preprocessing import LabelEncoder\n",
        "from sklearn import metrics\n",
        "from sklearn.model_selection import train_test_split\n",
        "from sklearn.svm import SVC\n",
        "from sklearn.svm import LinearSVC\n",
        "from sklearn.multiclass import OneVsRestClassifier\n",
        "from sklearn.multiclass import OneVsOneClassifier\n"
      ]
    },
    {
      "cell_type": "code",
      "source": [
        "#data loading\n",
        "df = pd.read_csv('dataset.csv')\n",
        "#view the data\n",
        "df.head()"
      ],
      "metadata": {
        "id": "dYLQYJzqv63k",
        "outputId": "bd002b6b-26f9-484c-e40a-c4a5cb034081",
        "colab": {
          "base_uri": "https://localhost:8080/",
          "height": 351
        }
      },
      "execution_count": 62,
      "outputs": [
        {
          "output_type": "execute_result",
          "data": {
            "text/plain": [
              "   Marital status  Application mode  Application order  Course  Daytime/evening attendance  \\\n",
              "0               1                17                  5     171                           1   \n",
              "1               1                15                  1    9254                           1   \n",
              "2               1                 1                  5    9070                           1   \n",
              "3               1                17                  2    9773                           1   \n",
              "4               2                39                  1    8014                           0   \n",
              "\n",
              "   Previous qualification  Previous qualification (grade)  Nacionality  Mother's qualification  \\\n",
              "0                       1                           122.0            1                      19   \n",
              "1                       1                           160.0            1                       1   \n",
              "2                       1                           122.0            1                      37   \n",
              "3                       1                           122.0            1                      38   \n",
              "4                       1                           100.0            1                      37   \n",
              "\n",
              "   Father's qualification  ...  Curricular units 2nd sem (credited)  \\\n",
              "0                      12  ...                                    0   \n",
              "1                       3  ...                                    0   \n",
              "2                      37  ...                                    0   \n",
              "3                      37  ...                                    0   \n",
              "4                      38  ...                                    0   \n",
              "\n",
              "   Curricular units 2nd sem (enrolled)  Curricular units 2nd sem (evaluations)  \\\n",
              "0                                    0                                       0   \n",
              "1                                    6                                       6   \n",
              "2                                    6                                       0   \n",
              "3                                    6                                      10   \n",
              "4                                    6                                       6   \n",
              "\n",
              "   Curricular units 2nd sem (approved)  Curricular units 2nd sem (grade)  \\\n",
              "0                                    0                              0.00   \n",
              "1                                    6                             13.67   \n",
              "2                                    0                              0.00   \n",
              "3                                    5                             12.40   \n",
              "4                                    6                             13.00   \n",
              "\n",
              "   Curricular units 2nd sem (without evaluations)  Unemployment rate  Inflation rate   GDP  \\\n",
              "0                                               0               10.8             1.4  1.74   \n",
              "1                                               0               13.9            -0.3  0.79   \n",
              "2                                               0               10.8             1.4  1.74   \n",
              "3                                               0                9.4            -0.8 -3.12   \n",
              "4                                               0               13.9            -0.3  0.79   \n",
              "\n",
              "     Target  \n",
              "0   Dropout  \n",
              "1  Graduate  \n",
              "2   Dropout  \n",
              "3  Graduate  \n",
              "4  Graduate  \n",
              "\n",
              "[5 rows x 37 columns]"
            ],
            "text/html": [
              "\n",
              "  <div id=\"df-59a58af4-6b48-4c7e-9c8e-bcdee5faa1db\">\n",
              "    <div class=\"colab-df-container\">\n",
              "      <div>\n",
              "<style scoped>\n",
              "    .dataframe tbody tr th:only-of-type {\n",
              "        vertical-align: middle;\n",
              "    }\n",
              "\n",
              "    .dataframe tbody tr th {\n",
              "        vertical-align: top;\n",
              "    }\n",
              "\n",
              "    .dataframe thead th {\n",
              "        text-align: right;\n",
              "    }\n",
              "</style>\n",
              "<table border=\"1\" class=\"dataframe\">\n",
              "  <thead>\n",
              "    <tr style=\"text-align: right;\">\n",
              "      <th></th>\n",
              "      <th>Marital status</th>\n",
              "      <th>Application mode</th>\n",
              "      <th>Application order</th>\n",
              "      <th>Course</th>\n",
              "      <th>Daytime/evening attendance</th>\n",
              "      <th>Previous qualification</th>\n",
              "      <th>Previous qualification (grade)</th>\n",
              "      <th>Nacionality</th>\n",
              "      <th>Mother's qualification</th>\n",
              "      <th>Father's qualification</th>\n",
              "      <th>...</th>\n",
              "      <th>Curricular units 2nd sem (credited)</th>\n",
              "      <th>Curricular units 2nd sem (enrolled)</th>\n",
              "      <th>Curricular units 2nd sem (evaluations)</th>\n",
              "      <th>Curricular units 2nd sem (approved)</th>\n",
              "      <th>Curricular units 2nd sem (grade)</th>\n",
              "      <th>Curricular units 2nd sem (without evaluations)</th>\n",
              "      <th>Unemployment rate</th>\n",
              "      <th>Inflation rate</th>\n",
              "      <th>GDP</th>\n",
              "      <th>Target</th>\n",
              "    </tr>\n",
              "  </thead>\n",
              "  <tbody>\n",
              "    <tr>\n",
              "      <th>0</th>\n",
              "      <td>1</td>\n",
              "      <td>17</td>\n",
              "      <td>5</td>\n",
              "      <td>171</td>\n",
              "      <td>1</td>\n",
              "      <td>1</td>\n",
              "      <td>122.0</td>\n",
              "      <td>1</td>\n",
              "      <td>19</td>\n",
              "      <td>12</td>\n",
              "      <td>...</td>\n",
              "      <td>0</td>\n",
              "      <td>0</td>\n",
              "      <td>0</td>\n",
              "      <td>0</td>\n",
              "      <td>0.00</td>\n",
              "      <td>0</td>\n",
              "      <td>10.8</td>\n",
              "      <td>1.4</td>\n",
              "      <td>1.74</td>\n",
              "      <td>Dropout</td>\n",
              "    </tr>\n",
              "    <tr>\n",
              "      <th>1</th>\n",
              "      <td>1</td>\n",
              "      <td>15</td>\n",
              "      <td>1</td>\n",
              "      <td>9254</td>\n",
              "      <td>1</td>\n",
              "      <td>1</td>\n",
              "      <td>160.0</td>\n",
              "      <td>1</td>\n",
              "      <td>1</td>\n",
              "      <td>3</td>\n",
              "      <td>...</td>\n",
              "      <td>0</td>\n",
              "      <td>6</td>\n",
              "      <td>6</td>\n",
              "      <td>6</td>\n",
              "      <td>13.67</td>\n",
              "      <td>0</td>\n",
              "      <td>13.9</td>\n",
              "      <td>-0.3</td>\n",
              "      <td>0.79</td>\n",
              "      <td>Graduate</td>\n",
              "    </tr>\n",
              "    <tr>\n",
              "      <th>2</th>\n",
              "      <td>1</td>\n",
              "      <td>1</td>\n",
              "      <td>5</td>\n",
              "      <td>9070</td>\n",
              "      <td>1</td>\n",
              "      <td>1</td>\n",
              "      <td>122.0</td>\n",
              "      <td>1</td>\n",
              "      <td>37</td>\n",
              "      <td>37</td>\n",
              "      <td>...</td>\n",
              "      <td>0</td>\n",
              "      <td>6</td>\n",
              "      <td>0</td>\n",
              "      <td>0</td>\n",
              "      <td>0.00</td>\n",
              "      <td>0</td>\n",
              "      <td>10.8</td>\n",
              "      <td>1.4</td>\n",
              "      <td>1.74</td>\n",
              "      <td>Dropout</td>\n",
              "    </tr>\n",
              "    <tr>\n",
              "      <th>3</th>\n",
              "      <td>1</td>\n",
              "      <td>17</td>\n",
              "      <td>2</td>\n",
              "      <td>9773</td>\n",
              "      <td>1</td>\n",
              "      <td>1</td>\n",
              "      <td>122.0</td>\n",
              "      <td>1</td>\n",
              "      <td>38</td>\n",
              "      <td>37</td>\n",
              "      <td>...</td>\n",
              "      <td>0</td>\n",
              "      <td>6</td>\n",
              "      <td>10</td>\n",
              "      <td>5</td>\n",
              "      <td>12.40</td>\n",
              "      <td>0</td>\n",
              "      <td>9.4</td>\n",
              "      <td>-0.8</td>\n",
              "      <td>-3.12</td>\n",
              "      <td>Graduate</td>\n",
              "    </tr>\n",
              "    <tr>\n",
              "      <th>4</th>\n",
              "      <td>2</td>\n",
              "      <td>39</td>\n",
              "      <td>1</td>\n",
              "      <td>8014</td>\n",
              "      <td>0</td>\n",
              "      <td>1</td>\n",
              "      <td>100.0</td>\n",
              "      <td>1</td>\n",
              "      <td>37</td>\n",
              "      <td>38</td>\n",
              "      <td>...</td>\n",
              "      <td>0</td>\n",
              "      <td>6</td>\n",
              "      <td>6</td>\n",
              "      <td>6</td>\n",
              "      <td>13.00</td>\n",
              "      <td>0</td>\n",
              "      <td>13.9</td>\n",
              "      <td>-0.3</td>\n",
              "      <td>0.79</td>\n",
              "      <td>Graduate</td>\n",
              "    </tr>\n",
              "  </tbody>\n",
              "</table>\n",
              "<p>5 rows × 37 columns</p>\n",
              "</div>\n",
              "      <button class=\"colab-df-convert\" onclick=\"convertToInteractive('df-59a58af4-6b48-4c7e-9c8e-bcdee5faa1db')\"\n",
              "              title=\"Convert this dataframe to an interactive table.\"\n",
              "              style=\"display:none;\">\n",
              "        \n",
              "  <svg xmlns=\"http://www.w3.org/2000/svg\" height=\"24px\"viewBox=\"0 0 24 24\"\n",
              "       width=\"24px\">\n",
              "    <path d=\"M0 0h24v24H0V0z\" fill=\"none\"/>\n",
              "    <path d=\"M18.56 5.44l.94 2.06.94-2.06 2.06-.94-2.06-.94-.94-2.06-.94 2.06-2.06.94zm-11 1L8.5 8.5l.94-2.06 2.06-.94-2.06-.94L8.5 2.5l-.94 2.06-2.06.94zm10 10l.94 2.06.94-2.06 2.06-.94-2.06-.94-.94-2.06-.94 2.06-2.06.94z\"/><path d=\"M17.41 7.96l-1.37-1.37c-.4-.4-.92-.59-1.43-.59-.52 0-1.04.2-1.43.59L10.3 9.45l-7.72 7.72c-.78.78-.78 2.05 0 2.83L4 21.41c.39.39.9.59 1.41.59.51 0 1.02-.2 1.41-.59l7.78-7.78 2.81-2.81c.8-.78.8-2.07 0-2.86zM5.41 20L4 18.59l7.72-7.72 1.47 1.35L5.41 20z\"/>\n",
              "  </svg>\n",
              "      </button>\n",
              "      \n",
              "  <style>\n",
              "    .colab-df-container {\n",
              "      display:flex;\n",
              "      flex-wrap:wrap;\n",
              "      gap: 12px;\n",
              "    }\n",
              "\n",
              "    .colab-df-convert {\n",
              "      background-color: #E8F0FE;\n",
              "      border: none;\n",
              "      border-radius: 50%;\n",
              "      cursor: pointer;\n",
              "      display: none;\n",
              "      fill: #1967D2;\n",
              "      height: 32px;\n",
              "      padding: 0 0 0 0;\n",
              "      width: 32px;\n",
              "    }\n",
              "\n",
              "    .colab-df-convert:hover {\n",
              "      background-color: #E2EBFA;\n",
              "      box-shadow: 0px 1px 2px rgba(60, 64, 67, 0.3), 0px 1px 3px 1px rgba(60, 64, 67, 0.15);\n",
              "      fill: #174EA6;\n",
              "    }\n",
              "\n",
              "    [theme=dark] .colab-df-convert {\n",
              "      background-color: #3B4455;\n",
              "      fill: #D2E3FC;\n",
              "    }\n",
              "\n",
              "    [theme=dark] .colab-df-convert:hover {\n",
              "      background-color: #434B5C;\n",
              "      box-shadow: 0px 1px 3px 1px rgba(0, 0, 0, 0.15);\n",
              "      filter: drop-shadow(0px 1px 2px rgba(0, 0, 0, 0.3));\n",
              "      fill: #FFFFFF;\n",
              "    }\n",
              "  </style>\n",
              "\n",
              "      <script>\n",
              "        const buttonEl =\n",
              "          document.querySelector('#df-59a58af4-6b48-4c7e-9c8e-bcdee5faa1db button.colab-df-convert');\n",
              "        buttonEl.style.display =\n",
              "          google.colab.kernel.accessAllowed ? 'block' : 'none';\n",
              "\n",
              "        async function convertToInteractive(key) {\n",
              "          const element = document.querySelector('#df-59a58af4-6b48-4c7e-9c8e-bcdee5faa1db');\n",
              "          const dataTable =\n",
              "            await google.colab.kernel.invokeFunction('convertToInteractive',\n",
              "                                                     [key], {});\n",
              "          if (!dataTable) return;\n",
              "\n",
              "          const docLinkHtml = 'Like what you see? Visit the ' +\n",
              "            '<a target=\"_blank\" href=https://colab.research.google.com/notebooks/data_table.ipynb>data table notebook</a>'\n",
              "            + ' to learn more about interactive tables.';\n",
              "          element.innerHTML = '';\n",
              "          dataTable['output_type'] = 'display_data';\n",
              "          await google.colab.output.renderOutput(dataTable, element);\n",
              "          const docLink = document.createElement('div');\n",
              "          docLink.innerHTML = docLinkHtml;\n",
              "          element.appendChild(docLink);\n",
              "        }\n",
              "      </script>\n",
              "    </div>\n",
              "  </div>\n",
              "  "
            ]
          },
          "metadata": {},
          "execution_count": 62
        }
      ]
    },
    {
      "cell_type": "code",
      "source": [
        "#finding null and duplicates\n",
        "df.isna().sum()\n",
        "df.duplicated().sum()"
      ],
      "metadata": {
        "id": "-W9Q-6OP5QhX",
        "outputId": "753ca3b9-e1a9-4f14-bb13-4ff5d1a1eb79",
        "colab": {
          "base_uri": "https://localhost:8080/"
        }
      },
      "execution_count": 63,
      "outputs": [
        {
          "output_type": "execute_result",
          "data": {
            "text/plain": [
              "0"
            ]
          },
          "metadata": {},
          "execution_count": 63
        }
      ]
    },
    {
      "cell_type": "code",
      "source": [
        "#EDA - Exploratory Data Analysis\n",
        "print(df.shape)"
      ],
      "metadata": {
        "colab": {
          "base_uri": "https://localhost:8080/"
        },
        "id": "CxQF2u6HsmPd",
        "outputId": "cfa84e2a-5835-453f-81e7-69fc9154887f"
      },
      "execution_count": 64,
      "outputs": [
        {
          "output_type": "stream",
          "name": "stdout",
          "text": [
            "(4424, 37)\n"
          ]
        }
      ]
    },
    {
      "cell_type": "code",
      "source": [
        "##basic information of data\n",
        "df.info()"
      ],
      "metadata": {
        "id": "2Fx5we-c7kQP",
        "outputId": "d49c5b8a-2ac3-4c9a-f0ea-4c620f39488f",
        "colab": {
          "base_uri": "https://localhost:8080/"
        }
      },
      "execution_count": 65,
      "outputs": [
        {
          "output_type": "stream",
          "name": "stdout",
          "text": [
            "<class 'pandas.core.frame.DataFrame'>\n",
            "RangeIndex: 4424 entries, 0 to 4423\n",
            "Data columns (total 37 columns):\n",
            " #   Column                                          Non-Null Count  Dtype  \n",
            "---  ------                                          --------------  -----  \n",
            " 0   Marital status                                  4424 non-null   int64  \n",
            " 1   Application mode                                4424 non-null   int64  \n",
            " 2   Application order                               4424 non-null   int64  \n",
            " 3   Course                                          4424 non-null   int64  \n",
            " 4   Daytime/evening attendance                      4424 non-null   int64  \n",
            " 5   Previous qualification                          4424 non-null   int64  \n",
            " 6   Previous qualification (grade)                  4424 non-null   float64\n",
            " 7   Nacionality                                     4424 non-null   int64  \n",
            " 8   Mother's qualification                          4424 non-null   int64  \n",
            " 9   Father's qualification                          4424 non-null   int64  \n",
            " 10  Mother's occupation                             4424 non-null   int64  \n",
            " 11  Father's occupation                             4424 non-null   int64  \n",
            " 12  Admission grade                                 4424 non-null   float64\n",
            " 13  Displaced                                       4424 non-null   int64  \n",
            " 14  Educational special needs                       4424 non-null   int64  \n",
            " 15  Debtor                                          4424 non-null   int64  \n",
            " 16  Tuition fees up to date                         4424 non-null   int64  \n",
            " 17  Gender                                          4424 non-null   int64  \n",
            " 18  Scholarship holder                              4424 non-null   int64  \n",
            " 19  Age at enrollment                               4424 non-null   int64  \n",
            " 20  International                                   4424 non-null   int64  \n",
            " 21  Curricular units 1st sem (credited)             4424 non-null   int64  \n",
            " 22  Curricular units 1st sem (enrolled)             4424 non-null   int64  \n",
            " 23  Curricular units 1st sem (evaluations)          4424 non-null   int64  \n",
            " 24  Curricular units 1st sem (approved)             4424 non-null   int64  \n",
            " 25  Curricular units 1st sem (grade)                4424 non-null   float64\n",
            " 26  Curricular units 1st sem (without evaluations)  4424 non-null   int64  \n",
            " 27  Curricular units 2nd sem (credited)             4424 non-null   int64  \n",
            " 28  Curricular units 2nd sem (enrolled)             4424 non-null   int64  \n",
            " 29  Curricular units 2nd sem (evaluations)          4424 non-null   int64  \n",
            " 30  Curricular units 2nd sem (approved)             4424 non-null   int64  \n",
            " 31  Curricular units 2nd sem (grade)                4424 non-null   float64\n",
            " 32  Curricular units 2nd sem (without evaluations)  4424 non-null   int64  \n",
            " 33  Unemployment rate                               4424 non-null   float64\n",
            " 34  Inflation rate                                  4424 non-null   float64\n",
            " 35  GDP                                             4424 non-null   float64\n",
            " 36  Target                                          4424 non-null   object \n",
            "dtypes: float64(7), int64(29), object(1)\n",
            "memory usage: 1.2+ MB\n"
          ]
        }
      ]
    },
    {
      "cell_type": "code",
      "source": [
        "##describe the data\n",
        "from pandas.io.formats.format import set_option\n",
        "set_option('display.precision',2)\n",
        "df.describe()"
      ],
      "metadata": {
        "colab": {
          "base_uri": "https://localhost:8080/",
          "height": 445
        },
        "id": "xMvGg1-Dsslb",
        "outputId": "e4055f8f-0d92-4156-c91a-8fccbe4e2fff"
      },
      "execution_count": 66,
      "outputs": [
        {
          "output_type": "execute_result",
          "data": {
            "text/plain": [
              "       Marital status  Application mode  Application order   Course  Daytime/evening attendance  \\\n",
              "count         4424.00           4424.00            4424.00  4424.00                     4424.00   \n",
              "mean             1.18             18.67               1.73  8856.64                        0.89   \n",
              "std              0.61             17.48               1.31  2063.57                        0.31   \n",
              "min              1.00              1.00               0.00    33.00                        0.00   \n",
              "25%              1.00              1.00               1.00  9085.00                        1.00   \n",
              "50%              1.00             17.00               1.00  9238.00                        1.00   \n",
              "75%              1.00             39.00               2.00  9556.00                        1.00   \n",
              "max              6.00             57.00               9.00  9991.00                        1.00   \n",
              "\n",
              "       Previous qualification  Previous qualification (grade)  Nacionality  \\\n",
              "count                 4424.00                         4424.00      4424.00   \n",
              "mean                     4.58                          132.61         1.87   \n",
              "std                     10.22                           13.19         6.91   \n",
              "min                      1.00                           95.00         1.00   \n",
              "25%                      1.00                          125.00         1.00   \n",
              "50%                      1.00                          133.10         1.00   \n",
              "75%                      1.00                          140.00         1.00   \n",
              "max                     43.00                          190.00       109.00   \n",
              "\n",
              "       Mother's qualification  Father's qualification  ...  \\\n",
              "count                 4424.00                 4424.00  ...   \n",
              "mean                    19.56                   22.28  ...   \n",
              "std                     15.60                   15.34  ...   \n",
              "min                      1.00                    1.00  ...   \n",
              "25%                      2.00                    3.00  ...   \n",
              "50%                     19.00                   19.00  ...   \n",
              "75%                     37.00                   37.00  ...   \n",
              "max                     44.00                   44.00  ...   \n",
              "\n",
              "       Curricular units 1st sem (without evaluations)  Curricular units 2nd sem (credited)  \\\n",
              "count                                         4424.00                              4424.00   \n",
              "mean                                             0.14                                 0.54   \n",
              "std                                              0.69                                 1.92   \n",
              "min                                              0.00                                 0.00   \n",
              "25%                                              0.00                                 0.00   \n",
              "50%                                              0.00                                 0.00   \n",
              "75%                                              0.00                                 0.00   \n",
              "max                                             12.00                                19.00   \n",
              "\n",
              "       Curricular units 2nd sem (enrolled)  Curricular units 2nd sem (evaluations)  \\\n",
              "count                              4424.00                                 4424.00   \n",
              "mean                                  6.23                                    8.06   \n",
              "std                                   2.20                                    3.95   \n",
              "min                                   0.00                                    0.00   \n",
              "25%                                   5.00                                    6.00   \n",
              "50%                                   6.00                                    8.00   \n",
              "75%                                   7.00                                   10.00   \n",
              "max                                  23.00                                   33.00   \n",
              "\n",
              "       Curricular units 2nd sem (approved)  Curricular units 2nd sem (grade)  \\\n",
              "count                              4424.00                           4424.00   \n",
              "mean                                  4.44                             10.23   \n",
              "std                                   3.01                              5.21   \n",
              "min                                   0.00                              0.00   \n",
              "25%                                   2.00                             10.75   \n",
              "50%                                   5.00                             12.20   \n",
              "75%                                   6.00                             13.33   \n",
              "max                                  20.00                             18.57   \n",
              "\n",
              "       Curricular units 2nd sem (without evaluations)  Unemployment rate  Inflation rate       GDP  \n",
              "count                                         4424.00            4424.00         4424.00  4.42e+03  \n",
              "mean                                             0.15              11.57            1.23  1.97e-03  \n",
              "std                                              0.75               2.66            1.38  2.27e+00  \n",
              "min                                              0.00               7.60           -0.80 -4.06e+00  \n",
              "25%                                              0.00               9.40            0.30 -1.70e+00  \n",
              "50%                                              0.00              11.10            1.40  3.20e-01  \n",
              "75%                                              0.00              13.90            2.60  1.79e+00  \n",
              "max                                             12.00              16.20            3.70  3.51e+00  \n",
              "\n",
              "[8 rows x 36 columns]"
            ],
            "text/html": [
              "\n",
              "  <div id=\"df-84750d9b-7a58-4192-b3f5-7ce4579912df\">\n",
              "    <div class=\"colab-df-container\">\n",
              "      <div>\n",
              "<style scoped>\n",
              "    .dataframe tbody tr th:only-of-type {\n",
              "        vertical-align: middle;\n",
              "    }\n",
              "\n",
              "    .dataframe tbody tr th {\n",
              "        vertical-align: top;\n",
              "    }\n",
              "\n",
              "    .dataframe thead th {\n",
              "        text-align: right;\n",
              "    }\n",
              "</style>\n",
              "<table border=\"1\" class=\"dataframe\">\n",
              "  <thead>\n",
              "    <tr style=\"text-align: right;\">\n",
              "      <th></th>\n",
              "      <th>Marital status</th>\n",
              "      <th>Application mode</th>\n",
              "      <th>Application order</th>\n",
              "      <th>Course</th>\n",
              "      <th>Daytime/evening attendance</th>\n",
              "      <th>Previous qualification</th>\n",
              "      <th>Previous qualification (grade)</th>\n",
              "      <th>Nacionality</th>\n",
              "      <th>Mother's qualification</th>\n",
              "      <th>Father's qualification</th>\n",
              "      <th>...</th>\n",
              "      <th>Curricular units 1st sem (without evaluations)</th>\n",
              "      <th>Curricular units 2nd sem (credited)</th>\n",
              "      <th>Curricular units 2nd sem (enrolled)</th>\n",
              "      <th>Curricular units 2nd sem (evaluations)</th>\n",
              "      <th>Curricular units 2nd sem (approved)</th>\n",
              "      <th>Curricular units 2nd sem (grade)</th>\n",
              "      <th>Curricular units 2nd sem (without evaluations)</th>\n",
              "      <th>Unemployment rate</th>\n",
              "      <th>Inflation rate</th>\n",
              "      <th>GDP</th>\n",
              "    </tr>\n",
              "  </thead>\n",
              "  <tbody>\n",
              "    <tr>\n",
              "      <th>count</th>\n",
              "      <td>4424.00</td>\n",
              "      <td>4424.00</td>\n",
              "      <td>4424.00</td>\n",
              "      <td>4424.00</td>\n",
              "      <td>4424.00</td>\n",
              "      <td>4424.00</td>\n",
              "      <td>4424.00</td>\n",
              "      <td>4424.00</td>\n",
              "      <td>4424.00</td>\n",
              "      <td>4424.00</td>\n",
              "      <td>...</td>\n",
              "      <td>4424.00</td>\n",
              "      <td>4424.00</td>\n",
              "      <td>4424.00</td>\n",
              "      <td>4424.00</td>\n",
              "      <td>4424.00</td>\n",
              "      <td>4424.00</td>\n",
              "      <td>4424.00</td>\n",
              "      <td>4424.00</td>\n",
              "      <td>4424.00</td>\n",
              "      <td>4.42e+03</td>\n",
              "    </tr>\n",
              "    <tr>\n",
              "      <th>mean</th>\n",
              "      <td>1.18</td>\n",
              "      <td>18.67</td>\n",
              "      <td>1.73</td>\n",
              "      <td>8856.64</td>\n",
              "      <td>0.89</td>\n",
              "      <td>4.58</td>\n",
              "      <td>132.61</td>\n",
              "      <td>1.87</td>\n",
              "      <td>19.56</td>\n",
              "      <td>22.28</td>\n",
              "      <td>...</td>\n",
              "      <td>0.14</td>\n",
              "      <td>0.54</td>\n",
              "      <td>6.23</td>\n",
              "      <td>8.06</td>\n",
              "      <td>4.44</td>\n",
              "      <td>10.23</td>\n",
              "      <td>0.15</td>\n",
              "      <td>11.57</td>\n",
              "      <td>1.23</td>\n",
              "      <td>1.97e-03</td>\n",
              "    </tr>\n",
              "    <tr>\n",
              "      <th>std</th>\n",
              "      <td>0.61</td>\n",
              "      <td>17.48</td>\n",
              "      <td>1.31</td>\n",
              "      <td>2063.57</td>\n",
              "      <td>0.31</td>\n",
              "      <td>10.22</td>\n",
              "      <td>13.19</td>\n",
              "      <td>6.91</td>\n",
              "      <td>15.60</td>\n",
              "      <td>15.34</td>\n",
              "      <td>...</td>\n",
              "      <td>0.69</td>\n",
              "      <td>1.92</td>\n",
              "      <td>2.20</td>\n",
              "      <td>3.95</td>\n",
              "      <td>3.01</td>\n",
              "      <td>5.21</td>\n",
              "      <td>0.75</td>\n",
              "      <td>2.66</td>\n",
              "      <td>1.38</td>\n",
              "      <td>2.27e+00</td>\n",
              "    </tr>\n",
              "    <tr>\n",
              "      <th>min</th>\n",
              "      <td>1.00</td>\n",
              "      <td>1.00</td>\n",
              "      <td>0.00</td>\n",
              "      <td>33.00</td>\n",
              "      <td>0.00</td>\n",
              "      <td>1.00</td>\n",
              "      <td>95.00</td>\n",
              "      <td>1.00</td>\n",
              "      <td>1.00</td>\n",
              "      <td>1.00</td>\n",
              "      <td>...</td>\n",
              "      <td>0.00</td>\n",
              "      <td>0.00</td>\n",
              "      <td>0.00</td>\n",
              "      <td>0.00</td>\n",
              "      <td>0.00</td>\n",
              "      <td>0.00</td>\n",
              "      <td>0.00</td>\n",
              "      <td>7.60</td>\n",
              "      <td>-0.80</td>\n",
              "      <td>-4.06e+00</td>\n",
              "    </tr>\n",
              "    <tr>\n",
              "      <th>25%</th>\n",
              "      <td>1.00</td>\n",
              "      <td>1.00</td>\n",
              "      <td>1.00</td>\n",
              "      <td>9085.00</td>\n",
              "      <td>1.00</td>\n",
              "      <td>1.00</td>\n",
              "      <td>125.00</td>\n",
              "      <td>1.00</td>\n",
              "      <td>2.00</td>\n",
              "      <td>3.00</td>\n",
              "      <td>...</td>\n",
              "      <td>0.00</td>\n",
              "      <td>0.00</td>\n",
              "      <td>5.00</td>\n",
              "      <td>6.00</td>\n",
              "      <td>2.00</td>\n",
              "      <td>10.75</td>\n",
              "      <td>0.00</td>\n",
              "      <td>9.40</td>\n",
              "      <td>0.30</td>\n",
              "      <td>-1.70e+00</td>\n",
              "    </tr>\n",
              "    <tr>\n",
              "      <th>50%</th>\n",
              "      <td>1.00</td>\n",
              "      <td>17.00</td>\n",
              "      <td>1.00</td>\n",
              "      <td>9238.00</td>\n",
              "      <td>1.00</td>\n",
              "      <td>1.00</td>\n",
              "      <td>133.10</td>\n",
              "      <td>1.00</td>\n",
              "      <td>19.00</td>\n",
              "      <td>19.00</td>\n",
              "      <td>...</td>\n",
              "      <td>0.00</td>\n",
              "      <td>0.00</td>\n",
              "      <td>6.00</td>\n",
              "      <td>8.00</td>\n",
              "      <td>5.00</td>\n",
              "      <td>12.20</td>\n",
              "      <td>0.00</td>\n",
              "      <td>11.10</td>\n",
              "      <td>1.40</td>\n",
              "      <td>3.20e-01</td>\n",
              "    </tr>\n",
              "    <tr>\n",
              "      <th>75%</th>\n",
              "      <td>1.00</td>\n",
              "      <td>39.00</td>\n",
              "      <td>2.00</td>\n",
              "      <td>9556.00</td>\n",
              "      <td>1.00</td>\n",
              "      <td>1.00</td>\n",
              "      <td>140.00</td>\n",
              "      <td>1.00</td>\n",
              "      <td>37.00</td>\n",
              "      <td>37.00</td>\n",
              "      <td>...</td>\n",
              "      <td>0.00</td>\n",
              "      <td>0.00</td>\n",
              "      <td>7.00</td>\n",
              "      <td>10.00</td>\n",
              "      <td>6.00</td>\n",
              "      <td>13.33</td>\n",
              "      <td>0.00</td>\n",
              "      <td>13.90</td>\n",
              "      <td>2.60</td>\n",
              "      <td>1.79e+00</td>\n",
              "    </tr>\n",
              "    <tr>\n",
              "      <th>max</th>\n",
              "      <td>6.00</td>\n",
              "      <td>57.00</td>\n",
              "      <td>9.00</td>\n",
              "      <td>9991.00</td>\n",
              "      <td>1.00</td>\n",
              "      <td>43.00</td>\n",
              "      <td>190.00</td>\n",
              "      <td>109.00</td>\n",
              "      <td>44.00</td>\n",
              "      <td>44.00</td>\n",
              "      <td>...</td>\n",
              "      <td>12.00</td>\n",
              "      <td>19.00</td>\n",
              "      <td>23.00</td>\n",
              "      <td>33.00</td>\n",
              "      <td>20.00</td>\n",
              "      <td>18.57</td>\n",
              "      <td>12.00</td>\n",
              "      <td>16.20</td>\n",
              "      <td>3.70</td>\n",
              "      <td>3.51e+00</td>\n",
              "    </tr>\n",
              "  </tbody>\n",
              "</table>\n",
              "<p>8 rows × 36 columns</p>\n",
              "</div>\n",
              "      <button class=\"colab-df-convert\" onclick=\"convertToInteractive('df-84750d9b-7a58-4192-b3f5-7ce4579912df')\"\n",
              "              title=\"Convert this dataframe to an interactive table.\"\n",
              "              style=\"display:none;\">\n",
              "        \n",
              "  <svg xmlns=\"http://www.w3.org/2000/svg\" height=\"24px\"viewBox=\"0 0 24 24\"\n",
              "       width=\"24px\">\n",
              "    <path d=\"M0 0h24v24H0V0z\" fill=\"none\"/>\n",
              "    <path d=\"M18.56 5.44l.94 2.06.94-2.06 2.06-.94-2.06-.94-.94-2.06-.94 2.06-2.06.94zm-11 1L8.5 8.5l.94-2.06 2.06-.94-2.06-.94L8.5 2.5l-.94 2.06-2.06.94zm10 10l.94 2.06.94-2.06 2.06-.94-2.06-.94-.94-2.06-.94 2.06-2.06.94z\"/><path d=\"M17.41 7.96l-1.37-1.37c-.4-.4-.92-.59-1.43-.59-.52 0-1.04.2-1.43.59L10.3 9.45l-7.72 7.72c-.78.78-.78 2.05 0 2.83L4 21.41c.39.39.9.59 1.41.59.51 0 1.02-.2 1.41-.59l7.78-7.78 2.81-2.81c.8-.78.8-2.07 0-2.86zM5.41 20L4 18.59l7.72-7.72 1.47 1.35L5.41 20z\"/>\n",
              "  </svg>\n",
              "      </button>\n",
              "      \n",
              "  <style>\n",
              "    .colab-df-container {\n",
              "      display:flex;\n",
              "      flex-wrap:wrap;\n",
              "      gap: 12px;\n",
              "    }\n",
              "\n",
              "    .colab-df-convert {\n",
              "      background-color: #E8F0FE;\n",
              "      border: none;\n",
              "      border-radius: 50%;\n",
              "      cursor: pointer;\n",
              "      display: none;\n",
              "      fill: #1967D2;\n",
              "      height: 32px;\n",
              "      padding: 0 0 0 0;\n",
              "      width: 32px;\n",
              "    }\n",
              "\n",
              "    .colab-df-convert:hover {\n",
              "      background-color: #E2EBFA;\n",
              "      box-shadow: 0px 1px 2px rgba(60, 64, 67, 0.3), 0px 1px 3px 1px rgba(60, 64, 67, 0.15);\n",
              "      fill: #174EA6;\n",
              "    }\n",
              "\n",
              "    [theme=dark] .colab-df-convert {\n",
              "      background-color: #3B4455;\n",
              "      fill: #D2E3FC;\n",
              "    }\n",
              "\n",
              "    [theme=dark] .colab-df-convert:hover {\n",
              "      background-color: #434B5C;\n",
              "      box-shadow: 0px 1px 3px 1px rgba(0, 0, 0, 0.15);\n",
              "      filter: drop-shadow(0px 1px 2px rgba(0, 0, 0, 0.3));\n",
              "      fill: #FFFFFF;\n",
              "    }\n",
              "  </style>\n",
              "\n",
              "      <script>\n",
              "        const buttonEl =\n",
              "          document.querySelector('#df-84750d9b-7a58-4192-b3f5-7ce4579912df button.colab-df-convert');\n",
              "        buttonEl.style.display =\n",
              "          google.colab.kernel.accessAllowed ? 'block' : 'none';\n",
              "\n",
              "        async function convertToInteractive(key) {\n",
              "          const element = document.querySelector('#df-84750d9b-7a58-4192-b3f5-7ce4579912df');\n",
              "          const dataTable =\n",
              "            await google.colab.kernel.invokeFunction('convertToInteractive',\n",
              "                                                     [key], {});\n",
              "          if (!dataTable) return;\n",
              "\n",
              "          const docLinkHtml = 'Like what you see? Visit the ' +\n",
              "            '<a target=\"_blank\" href=https://colab.research.google.com/notebooks/data_table.ipynb>data table notebook</a>'\n",
              "            + ' to learn more about interactive tables.';\n",
              "          element.innerHTML = '';\n",
              "          dataTable['output_type'] = 'display_data';\n",
              "          await google.colab.output.renderOutput(dataTable, element);\n",
              "          const docLink = document.createElement('div');\n",
              "          docLink.innerHTML = docLinkHtml;\n",
              "          element.appendChild(docLink);\n",
              "        }\n",
              "      </script>\n",
              "    </div>\n",
              "  </div>\n",
              "  "
            ]
          },
          "metadata": {},
          "execution_count": 66
        }
      ]
    },
    {
      "cell_type": "code",
      "source": [
        "##finding unique values\n",
        "# list(df)\n",
        "for col in list(df):\n",
        "  print(col)\n",
        "  print(df[col].unique())"
      ],
      "metadata": {
        "id": "xfedjPrE9R9S"
      },
      "execution_count": null,
      "outputs": []
    },
    {
      "cell_type": "code",
      "source": [
        "df['Target'].unique()"
      ],
      "metadata": {
        "id": "MhvC5I-p9R50",
        "outputId": "f3288ca2-2a63-481b-ed02-19ab0807f00c",
        "colab": {
          "base_uri": "https://localhost:8080/"
        }
      },
      "execution_count": 68,
      "outputs": [
        {
          "output_type": "execute_result",
          "data": {
            "text/plain": [
              "array(['Dropout', 'Graduate', 'Enrolled'], dtype=object)"
            ]
          },
          "metadata": {},
          "execution_count": 68
        }
      ]
    },
    {
      "cell_type": "code",
      "source": [
        "df.loc[:,'Target'].value_counts()"
      ],
      "metadata": {
        "id": "Pkp7QcBAY9XO",
        "outputId": "cf823ee1-a7e8-4b79-807c-c52868642d51",
        "colab": {
          "base_uri": "https://localhost:8080/"
        }
      },
      "execution_count": 70,
      "outputs": [
        {
          "output_type": "execute_result",
          "data": {
            "text/plain": [
              "Graduate    2209\n",
              "Dropout     1421\n",
              "Enrolled     794\n",
              "Name: Target, dtype: int64"
            ]
          },
          "metadata": {},
          "execution_count": 70
        }
      ]
    },
    {
      "cell_type": "code",
      "source": [
        "df['Marital status'].unique()"
      ],
      "metadata": {
        "id": "wdR6WX6kYJv7",
        "outputId": "375b92d4-e098-4dcd-c420-3c5c5e7a03c5",
        "colab": {
          "base_uri": "https://localhost:8080/"
        }
      },
      "execution_count": 69,
      "outputs": [
        {
          "output_type": "execute_result",
          "data": {
            "text/plain": [
              "array([1, 2, 4, 3, 5, 6])"
            ]
          },
          "metadata": {},
          "execution_count": 69
        }
      ]
    },
    {
      "cell_type": "code",
      "source": [
        "df.loc[:,'Marital status'].value_counts()"
      ],
      "metadata": {
        "id": "q-adPFStY9T4",
        "outputId": "d9038418-1959-452b-a79b-cca9efc65931",
        "colab": {
          "base_uri": "https://localhost:8080/"
        }
      },
      "execution_count": 71,
      "outputs": [
        {
          "output_type": "execute_result",
          "data": {
            "text/plain": [
              "1    3919\n",
              "2     379\n",
              "4      91\n",
              "5      25\n",
              "6       6\n",
              "3       4\n",
              "Name: Marital status, dtype: int64"
            ]
          },
          "metadata": {},
          "execution_count": 71
        }
      ]
    },
    {
      "cell_type": "code",
      "source": [
        "df.loc[:,'Gender'].value_counts()"
      ],
      "metadata": {
        "id": "wadytrHpZtYS",
        "outputId": "4855bf24-82a5-43fb-9f6d-8eee41e35152",
        "colab": {
          "base_uri": "https://localhost:8080/"
        }
      },
      "execution_count": 72,
      "outputs": [
        {
          "output_type": "execute_result",
          "data": {
            "text/plain": [
              "0    2868\n",
              "1    1556\n",
              "Name: Gender, dtype: int64"
            ]
          },
          "metadata": {},
          "execution_count": 72
        }
      ]
    },
    {
      "cell_type": "code",
      "source": [
        "df.columns"
      ],
      "metadata": {
        "id": "Fhn9ogKzmcyv",
        "outputId": "451981ea-4787-4e75-c94e-5ad32f761e76",
        "colab": {
          "base_uri": "https://localhost:8080/"
        }
      },
      "execution_count": 88,
      "outputs": [
        {
          "output_type": "execute_result",
          "data": {
            "text/plain": [
              "Index(['Marital status', 'Application mode', 'Application order', 'Course',\n",
              "       'Daytime/evening attendance', 'Previous qualification', 'Previous qualification (grade)',\n",
              "       'Nacionality', 'Mother's qualification', 'Father's qualification', 'Mother's occupation',\n",
              "       'Father's occupation', 'Admission grade', 'Displaced', 'Educational special needs',\n",
              "       'Debtor', 'Tuition fees up to date', 'Gender', 'Scholarship holder', 'Age at enrollment',\n",
              "       'International', 'Curricular units 1st sem (credited)',\n",
              "       'Curricular units 1st sem (enrolled)', 'Curricular units 1st sem (evaluations)',\n",
              "       'Curricular units 1st sem (approved)', 'Curricular units 1st sem (grade)',\n",
              "       'Curricular units 1st sem (without evaluations)', 'Curricular units 2nd sem (credited)',\n",
              "       'Curricular units 2nd sem (enrolled)', 'Curricular units 2nd sem (evaluations)',\n",
              "       'Curricular units 2nd sem (approved)', 'Curricular units 2nd sem (grade)',\n",
              "       'Curricular units 2nd sem (without evaluations)', 'Unemployment rate', 'Inflation rate',\n",
              "       'GDP', 'Target'],\n",
              "      dtype='object')"
            ]
          },
          "metadata": {},
          "execution_count": 88
        }
      ]
    },
    {
      "cell_type": "code",
      "source": [
        "#stacked bar chart\n"
      ],
      "metadata": {
        "id": "HY124xpfWupD"
      },
      "execution_count": 73,
      "outputs": []
    },
    {
      "cell_type": "code",
      "source": [],
      "metadata": {
        "id": "QxHtjt15HYsj"
      },
      "execution_count": 73,
      "outputs": []
    },
    {
      "cell_type": "code",
      "source": [
        "##finding correlations between attributes\n",
        "df.corr(method='pearson')"
      ],
      "metadata": {
        "id": "KoBDihORuOs8"
      },
      "execution_count": null,
      "outputs": []
    },
    {
      "cell_type": "code",
      "source": [
        "##correlation plot\n",
        "sns.heatmap(df.corr())"
      ],
      "metadata": {
        "id": "lkc_q8QzUmRb"
      },
      "execution_count": null,
      "outputs": []
    },
    {
      "cell_type": "code",
      "source": [
        "##finding skewness\n",
        "df.skew()"
      ],
      "metadata": {
        "id": "BJwcYR-autGc"
      },
      "execution_count": null,
      "outputs": []
    },
    {
      "cell_type": "code",
      "source": [
        "##histogram\n",
        "sns.set_theme(style = 'darkgrid')\n",
        "df.hist(bins=10, figsize=(50, 35), grid=True, legend=None);"
      ],
      "metadata": {
        "id": "6TjF3oy6GTKJ"
      },
      "execution_count": null,
      "outputs": []
    },
    {
      "cell_type": "code",
      "source": [
        "# #kernal density estimate\n",
        "# sns.set_theme(style = 'darkgrid')\n",
        "# df['Marital status'].value_counts().plot(kind = 'kde');"
      ],
      "metadata": {
        "id": "5OnLuSYb04gl"
      },
      "execution_count": null,
      "outputs": []
    }
  ]
}